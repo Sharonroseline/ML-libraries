{
 "cells": [
  {
   "cell_type": "code",
   "execution_count": 2,
   "id": "620a3b32",
   "metadata": {},
   "outputs": [],
   "source": [
    "import pandas as pd\n",
    "import numpy as np"
   ]
  },
  {
   "cell_type": "code",
   "execution_count": 4,
   "id": "b5abb55a",
   "metadata": {},
   "outputs": [],
   "source": [
    "labels=['w','x','y','z']\n",
    "list=[10,20,30,40]\n",
    "array=np.array([10,20,30,40])\n",
    "dict={'w':10,'x':20,'y':30,'z':40}\n",
    "\n",
    "\n",
    "\n"
   ]
  },
  {
   "cell_type": "code",
   "execution_count": 5,
   "id": "7b2ca1ac",
   "metadata": {},
   "outputs": [
    {
     "data": {
      "text/plain": [
       "0    10\n",
       "1    20\n",
       "2    30\n",
       "3    40\n",
       "dtype: int64"
      ]
     },
     "execution_count": 5,
     "metadata": {},
     "output_type": "execute_result"
    }
   ],
   "source": [
    "pd.Series(data=list)\n",
    "\n"
   ]
  },
  {
   "cell_type": "code",
   "execution_count": 6,
   "id": "171736a6",
   "metadata": {},
   "outputs": [
    {
     "data": {
      "text/plain": [
       "w    10\n",
       "x    20\n",
       "y    30\n",
       "z    40\n",
       "dtype: int64"
      ]
     },
     "execution_count": 6,
     "metadata": {},
     "output_type": "execute_result"
    }
   ],
   "source": [
    "pd.Series(data=list,index=labels)\n",
    "\n"
   ]
  },
  {
   "cell_type": "code",
   "execution_count": 7,
   "id": "4d7640e9",
   "metadata": {},
   "outputs": [
    {
     "data": {
      "text/plain": [
       "w    10\n",
       "x    20\n",
       "y    30\n",
       "z    40\n",
       "dtype: int32"
      ]
     },
     "execution_count": 7,
     "metadata": {},
     "output_type": "execute_result"
    }
   ],
   "source": [
    "pd.Series(array,labels)\n",
    "\n"
   ]
  },
  {
   "cell_type": "code",
   "execution_count": 8,
   "id": "842c992e",
   "metadata": {},
   "outputs": [
    {
     "data": {
      "text/plain": [
       "w    10\n",
       "x    20\n",
       "y    30\n",
       "z    40\n",
       "dtype: int64"
      ]
     },
     "execution_count": 8,
     "metadata": {},
     "output_type": "execute_result"
    }
   ],
   "source": [
    "pd.Series(dict)"
   ]
  },
  {
   "cell_type": "markdown",
   "id": "d02a73bf",
   "metadata": {},
   "source": [
    "### Pandas dataframe and indexing\n",
    "\n"
   ]
  },
  {
   "cell_type": "code",
   "execution_count": 10,
   "id": "d608bb13",
   "metadata": {},
   "outputs": [
    {
     "data": {
      "text/plain": [
       "cricket       1\n",
       "football      2\n",
       "basketball    3\n",
       "golf          4\n",
       "dtype: int64"
      ]
     },
     "execution_count": 10,
     "metadata": {},
     "output_type": "execute_result"
    }
   ],
   "source": [
    "sports1=pd.Series([1,2,3,4],index=['cricket','football','basketball','golf'])\n",
    "sports1\n",
    "\n",
    "\n",
    "\n"
   ]
  },
  {
   "cell_type": "code",
   "execution_count": 11,
   "id": "5f6f5c82",
   "metadata": {},
   "outputs": [
    {
     "data": {
      "text/plain": [
       "1"
      ]
     },
     "execution_count": 11,
     "metadata": {},
     "output_type": "execute_result"
    }
   ],
   "source": [
    "sports1['cricket']"
   ]
  },
  {
   "cell_type": "code",
   "execution_count": 12,
   "id": "f26dfb72",
   "metadata": {},
   "outputs": [
    {
     "data": {
      "text/plain": [
       "cricket     11\n",
       "football     2\n",
       "baseball     3\n",
       "golf         4\n",
       "dtype: int64"
      ]
     },
     "execution_count": 12,
     "metadata": {},
     "output_type": "execute_result"
    }
   ],
   "source": [
    "sports2=pd.Series([11,2,3,4],index=['cricket','football','baseball','golf'])\n",
    "sports2"
   ]
  },
  {
   "cell_type": "code",
   "execution_count": 13,
   "id": "6c05ff3c",
   "metadata": {},
   "outputs": [
    {
     "data": {
      "text/plain": [
       "baseball       NaN\n",
       "basketball     NaN\n",
       "cricket       12.0\n",
       "football       4.0\n",
       "golf           8.0\n",
       "dtype: float64"
      ]
     },
     "execution_count": 13,
     "metadata": {},
     "output_type": "execute_result"
    }
   ],
   "source": [
    "sports1+sports2"
   ]
  },
  {
   "cell_type": "code",
   "execution_count": 15,
   "id": "8e0a7ae0",
   "metadata": {},
   "outputs": [
    {
     "data": {
      "text/html": [
       "<div>\n",
       "<style scoped>\n",
       "    .dataframe tbody tr th:only-of-type {\n",
       "        vertical-align: middle;\n",
       "    }\n",
       "\n",
       "    .dataframe tbody tr th {\n",
       "        vertical-align: top;\n",
       "    }\n",
       "\n",
       "    .dataframe thead th {\n",
       "        text-align: right;\n",
       "    }\n",
       "</style>\n",
       "<table border=\"1\" class=\"dataframe\">\n",
       "  <thead>\n",
       "    <tr style=\"text-align: right;\">\n",
       "      <th></th>\n",
       "      <th>Score1</th>\n",
       "      <th>Score2</th>\n",
       "      <th>Score3</th>\n",
       "      <th>Score4</th>\n",
       "      <th>Score5</th>\n",
       "    </tr>\n",
       "  </thead>\n",
       "  <tbody>\n",
       "    <tr>\n",
       "      <th>A</th>\n",
       "      <td>0.672281</td>\n",
       "      <td>0.104925</td>\n",
       "      <td>0.639396</td>\n",
       "      <td>0.438870</td>\n",
       "      <td>0.737263</td>\n",
       "    </tr>\n",
       "    <tr>\n",
       "      <th>B</th>\n",
       "      <td>0.097738</td>\n",
       "      <td>0.420362</td>\n",
       "      <td>0.142961</td>\n",
       "      <td>0.044499</td>\n",
       "      <td>0.123164</td>\n",
       "    </tr>\n",
       "    <tr>\n",
       "      <th>C</th>\n",
       "      <td>0.239350</td>\n",
       "      <td>0.807544</td>\n",
       "      <td>0.734587</td>\n",
       "      <td>0.862215</td>\n",
       "      <td>0.175139</td>\n",
       "    </tr>\n",
       "    <tr>\n",
       "      <th>D</th>\n",
       "      <td>0.304765</td>\n",
       "      <td>0.418634</td>\n",
       "      <td>0.641534</td>\n",
       "      <td>0.410353</td>\n",
       "      <td>0.726661</td>\n",
       "    </tr>\n",
       "    <tr>\n",
       "      <th>E</th>\n",
       "      <td>0.552518</td>\n",
       "      <td>0.450533</td>\n",
       "      <td>0.320620</td>\n",
       "      <td>0.685759</td>\n",
       "      <td>0.368445</td>\n",
       "    </tr>\n",
       "    <tr>\n",
       "      <th>F</th>\n",
       "      <td>0.518488</td>\n",
       "      <td>0.513859</td>\n",
       "      <td>0.967520</td>\n",
       "      <td>0.380799</td>\n",
       "      <td>0.607190</td>\n",
       "    </tr>\n",
       "    <tr>\n",
       "      <th>G</th>\n",
       "      <td>0.119015</td>\n",
       "      <td>0.332817</td>\n",
       "      <td>0.411330</td>\n",
       "      <td>0.908184</td>\n",
       "      <td>0.710015</td>\n",
       "    </tr>\n",
       "    <tr>\n",
       "      <th>H</th>\n",
       "      <td>0.000971</td>\n",
       "      <td>0.764705</td>\n",
       "      <td>0.623335</td>\n",
       "      <td>0.595956</td>\n",
       "      <td>0.482548</td>\n",
       "    </tr>\n",
       "  </tbody>\n",
       "</table>\n",
       "</div>"
      ],
      "text/plain": [
       "     Score1    Score2    Score3    Score4    Score5\n",
       "A  0.672281  0.104925  0.639396  0.438870  0.737263\n",
       "B  0.097738  0.420362  0.142961  0.044499  0.123164\n",
       "C  0.239350  0.807544  0.734587  0.862215  0.175139\n",
       "D  0.304765  0.418634  0.641534  0.410353  0.726661\n",
       "E  0.552518  0.450533  0.320620  0.685759  0.368445\n",
       "F  0.518488  0.513859  0.967520  0.380799  0.607190\n",
       "G  0.119015  0.332817  0.411330  0.908184  0.710015\n",
       "H  0.000971  0.764705  0.623335  0.595956  0.482548"
      ]
     },
     "execution_count": 15,
     "metadata": {},
     "output_type": "execute_result"
    }
   ],
   "source": [
    "df1=pd.DataFrame(np.random.rand(8,5),index='A B C D E F G H '.split(),columns='Score1 Score2 Score3 Score4 Score5'.split())\n",
    "df1\n",
    "\n"
   ]
  },
  {
   "cell_type": "code",
   "execution_count": 16,
   "id": "48adc42d",
   "metadata": {},
   "outputs": [
    {
     "data": {
      "text/plain": [
       "A    0.639396\n",
       "B    0.142961\n",
       "C    0.734587\n",
       "D    0.641534\n",
       "E    0.320620\n",
       "F    0.967520\n",
       "G    0.411330\n",
       "H    0.623335\n",
       "Name: Score3, dtype: float64"
      ]
     },
     "execution_count": 16,
     "metadata": {},
     "output_type": "execute_result"
    }
   ],
   "source": [
    "df1['Score3']\n",
    "\n",
    "\n",
    "\n"
   ]
  },
  {
   "cell_type": "code",
   "execution_count": 17,
   "id": "a0dde3ab",
   "metadata": {},
   "outputs": [
    {
     "data": {
      "text/html": [
       "<div>\n",
       "<style scoped>\n",
       "    .dataframe tbody tr th:only-of-type {\n",
       "        vertical-align: middle;\n",
       "    }\n",
       "\n",
       "    .dataframe tbody tr th {\n",
       "        vertical-align: top;\n",
       "    }\n",
       "\n",
       "    .dataframe thead th {\n",
       "        text-align: right;\n",
       "    }\n",
       "</style>\n",
       "<table border=\"1\" class=\"dataframe\">\n",
       "  <thead>\n",
       "    <tr style=\"text-align: right;\">\n",
       "      <th></th>\n",
       "      <th>Score2</th>\n",
       "      <th>Score1</th>\n",
       "    </tr>\n",
       "  </thead>\n",
       "  <tbody>\n",
       "    <tr>\n",
       "      <th>A</th>\n",
       "      <td>0.104925</td>\n",
       "      <td>0.672281</td>\n",
       "    </tr>\n",
       "    <tr>\n",
       "      <th>B</th>\n",
       "      <td>0.420362</td>\n",
       "      <td>0.097738</td>\n",
       "    </tr>\n",
       "    <tr>\n",
       "      <th>C</th>\n",
       "      <td>0.807544</td>\n",
       "      <td>0.239350</td>\n",
       "    </tr>\n",
       "    <tr>\n",
       "      <th>D</th>\n",
       "      <td>0.418634</td>\n",
       "      <td>0.304765</td>\n",
       "    </tr>\n",
       "    <tr>\n",
       "      <th>E</th>\n",
       "      <td>0.450533</td>\n",
       "      <td>0.552518</td>\n",
       "    </tr>\n",
       "    <tr>\n",
       "      <th>F</th>\n",
       "      <td>0.513859</td>\n",
       "      <td>0.518488</td>\n",
       "    </tr>\n",
       "    <tr>\n",
       "      <th>G</th>\n",
       "      <td>0.332817</td>\n",
       "      <td>0.119015</td>\n",
       "    </tr>\n",
       "    <tr>\n",
       "      <th>H</th>\n",
       "      <td>0.764705</td>\n",
       "      <td>0.000971</td>\n",
       "    </tr>\n",
       "  </tbody>\n",
       "</table>\n",
       "</div>"
      ],
      "text/plain": [
       "     Score2    Score1\n",
       "A  0.104925  0.672281\n",
       "B  0.420362  0.097738\n",
       "C  0.807544  0.239350\n",
       "D  0.418634  0.304765\n",
       "E  0.450533  0.552518\n",
       "F  0.513859  0.518488\n",
       "G  0.332817  0.119015\n",
       "H  0.764705  0.000971"
      ]
     },
     "execution_count": 17,
     "metadata": {},
     "output_type": "execute_result"
    }
   ],
   "source": [
    "df1[['Score2','Score1']]\n",
    "\n"
   ]
  },
  {
   "cell_type": "code",
   "execution_count": 18,
   "id": "ca6b1a00",
   "metadata": {},
   "outputs": [
    {
     "data": {
      "text/html": [
       "<div>\n",
       "<style scoped>\n",
       "    .dataframe tbody tr th:only-of-type {\n",
       "        vertical-align: middle;\n",
       "    }\n",
       "\n",
       "    .dataframe tbody tr th {\n",
       "        vertical-align: top;\n",
       "    }\n",
       "\n",
       "    .dataframe thead th {\n",
       "        text-align: right;\n",
       "    }\n",
       "</style>\n",
       "<table border=\"1\" class=\"dataframe\">\n",
       "  <thead>\n",
       "    <tr style=\"text-align: right;\">\n",
       "      <th></th>\n",
       "      <th>Score1</th>\n",
       "      <th>Score2</th>\n",
       "      <th>Score3</th>\n",
       "      <th>Score4</th>\n",
       "      <th>Score5</th>\n",
       "      <th>Score6</th>\n",
       "    </tr>\n",
       "  </thead>\n",
       "  <tbody>\n",
       "    <tr>\n",
       "      <th>A</th>\n",
       "      <td>0.672281</td>\n",
       "      <td>0.104925</td>\n",
       "      <td>0.639396</td>\n",
       "      <td>0.438870</td>\n",
       "      <td>0.737263</td>\n",
       "      <td>0.777206</td>\n",
       "    </tr>\n",
       "    <tr>\n",
       "      <th>B</th>\n",
       "      <td>0.097738</td>\n",
       "      <td>0.420362</td>\n",
       "      <td>0.142961</td>\n",
       "      <td>0.044499</td>\n",
       "      <td>0.123164</td>\n",
       "      <td>0.518099</td>\n",
       "    </tr>\n",
       "    <tr>\n",
       "      <th>C</th>\n",
       "      <td>0.239350</td>\n",
       "      <td>0.807544</td>\n",
       "      <td>0.734587</td>\n",
       "      <td>0.862215</td>\n",
       "      <td>0.175139</td>\n",
       "      <td>1.046895</td>\n",
       "    </tr>\n",
       "    <tr>\n",
       "      <th>D</th>\n",
       "      <td>0.304765</td>\n",
       "      <td>0.418634</td>\n",
       "      <td>0.641534</td>\n",
       "      <td>0.410353</td>\n",
       "      <td>0.726661</td>\n",
       "      <td>0.723399</td>\n",
       "    </tr>\n",
       "    <tr>\n",
       "      <th>E</th>\n",
       "      <td>0.552518</td>\n",
       "      <td>0.450533</td>\n",
       "      <td>0.320620</td>\n",
       "      <td>0.685759</td>\n",
       "      <td>0.368445</td>\n",
       "      <td>1.003052</td>\n",
       "    </tr>\n",
       "    <tr>\n",
       "      <th>F</th>\n",
       "      <td>0.518488</td>\n",
       "      <td>0.513859</td>\n",
       "      <td>0.967520</td>\n",
       "      <td>0.380799</td>\n",
       "      <td>0.607190</td>\n",
       "      <td>1.032347</td>\n",
       "    </tr>\n",
       "    <tr>\n",
       "      <th>G</th>\n",
       "      <td>0.119015</td>\n",
       "      <td>0.332817</td>\n",
       "      <td>0.411330</td>\n",
       "      <td>0.908184</td>\n",
       "      <td>0.710015</td>\n",
       "      <td>0.451832</td>\n",
       "    </tr>\n",
       "    <tr>\n",
       "      <th>H</th>\n",
       "      <td>0.000971</td>\n",
       "      <td>0.764705</td>\n",
       "      <td>0.623335</td>\n",
       "      <td>0.595956</td>\n",
       "      <td>0.482548</td>\n",
       "      <td>0.765676</td>\n",
       "    </tr>\n",
       "  </tbody>\n",
       "</table>\n",
       "</div>"
      ],
      "text/plain": [
       "     Score1    Score2    Score3    Score4    Score5    Score6\n",
       "A  0.672281  0.104925  0.639396  0.438870  0.737263  0.777206\n",
       "B  0.097738  0.420362  0.142961  0.044499  0.123164  0.518099\n",
       "C  0.239350  0.807544  0.734587  0.862215  0.175139  1.046895\n",
       "D  0.304765  0.418634  0.641534  0.410353  0.726661  0.723399\n",
       "E  0.552518  0.450533  0.320620  0.685759  0.368445  1.003052\n",
       "F  0.518488  0.513859  0.967520  0.380799  0.607190  1.032347\n",
       "G  0.119015  0.332817  0.411330  0.908184  0.710015  0.451832\n",
       "H  0.000971  0.764705  0.623335  0.595956  0.482548  0.765676"
      ]
     },
     "execution_count": 18,
     "metadata": {},
     "output_type": "execute_result"
    }
   ],
   "source": [
    "df1['Score6']=df1['Score1']+df1['Score2']\n",
    "df1\n",
    "\n",
    "\n",
    "\n"
   ]
  },
  {
   "cell_type": "code",
   "execution_count": 19,
   "id": "3e0b8cbc",
   "metadata": {},
   "outputs": [
    {
     "data": {
      "text/html": [
       "<div>\n",
       "<style scoped>\n",
       "    .dataframe tbody tr th:only-of-type {\n",
       "        vertical-align: middle;\n",
       "    }\n",
       "\n",
       "    .dataframe tbody tr th {\n",
       "        vertical-align: top;\n",
       "    }\n",
       "\n",
       "    .dataframe thead th {\n",
       "        text-align: right;\n",
       "    }\n",
       "</style>\n",
       "<table border=\"1\" class=\"dataframe\">\n",
       "  <thead>\n",
       "    <tr style=\"text-align: right;\">\n",
       "      <th></th>\n",
       "      <th>Score1</th>\n",
       "      <th>Score2</th>\n",
       "      <th>Score3</th>\n",
       "      <th>Score4</th>\n",
       "      <th>Score6</th>\n",
       "    </tr>\n",
       "  </thead>\n",
       "  <tbody>\n",
       "    <tr>\n",
       "      <th>A</th>\n",
       "      <td>0.672281</td>\n",
       "      <td>0.104925</td>\n",
       "      <td>0.639396</td>\n",
       "      <td>0.438870</td>\n",
       "      <td>0.777206</td>\n",
       "    </tr>\n",
       "    <tr>\n",
       "      <th>B</th>\n",
       "      <td>0.097738</td>\n",
       "      <td>0.420362</td>\n",
       "      <td>0.142961</td>\n",
       "      <td>0.044499</td>\n",
       "      <td>0.518099</td>\n",
       "    </tr>\n",
       "    <tr>\n",
       "      <th>C</th>\n",
       "      <td>0.239350</td>\n",
       "      <td>0.807544</td>\n",
       "      <td>0.734587</td>\n",
       "      <td>0.862215</td>\n",
       "      <td>1.046895</td>\n",
       "    </tr>\n",
       "    <tr>\n",
       "      <th>D</th>\n",
       "      <td>0.304765</td>\n",
       "      <td>0.418634</td>\n",
       "      <td>0.641534</td>\n",
       "      <td>0.410353</td>\n",
       "      <td>0.723399</td>\n",
       "    </tr>\n",
       "    <tr>\n",
       "      <th>E</th>\n",
       "      <td>0.552518</td>\n",
       "      <td>0.450533</td>\n",
       "      <td>0.320620</td>\n",
       "      <td>0.685759</td>\n",
       "      <td>1.003052</td>\n",
       "    </tr>\n",
       "    <tr>\n",
       "      <th>F</th>\n",
       "      <td>0.518488</td>\n",
       "      <td>0.513859</td>\n",
       "      <td>0.967520</td>\n",
       "      <td>0.380799</td>\n",
       "      <td>1.032347</td>\n",
       "    </tr>\n",
       "    <tr>\n",
       "      <th>G</th>\n",
       "      <td>0.119015</td>\n",
       "      <td>0.332817</td>\n",
       "      <td>0.411330</td>\n",
       "      <td>0.908184</td>\n",
       "      <td>0.451832</td>\n",
       "    </tr>\n",
       "    <tr>\n",
       "      <th>H</th>\n",
       "      <td>0.000971</td>\n",
       "      <td>0.764705</td>\n",
       "      <td>0.623335</td>\n",
       "      <td>0.595956</td>\n",
       "      <td>0.765676</td>\n",
       "    </tr>\n",
       "  </tbody>\n",
       "</table>\n",
       "</div>"
      ],
      "text/plain": [
       "     Score1    Score2    Score3    Score4    Score6\n",
       "A  0.672281  0.104925  0.639396  0.438870  0.777206\n",
       "B  0.097738  0.420362  0.142961  0.044499  0.518099\n",
       "C  0.239350  0.807544  0.734587  0.862215  1.046895\n",
       "D  0.304765  0.418634  0.641534  0.410353  0.723399\n",
       "E  0.552518  0.450533  0.320620  0.685759  1.003052\n",
       "F  0.518488  0.513859  0.967520  0.380799  1.032347\n",
       "G  0.119015  0.332817  0.411330  0.908184  0.451832\n",
       "H  0.000971  0.764705  0.623335  0.595956  0.765676"
      ]
     },
     "execution_count": 19,
     "metadata": {},
     "output_type": "execute_result"
    }
   ],
   "source": [
    "df1.drop('Score5',axis=1)\n",
    "\n",
    "\n",
    "\n"
   ]
  },
  {
   "cell_type": "code",
   "execution_count": 22,
   "id": "1f4b9560",
   "metadata": {},
   "outputs": [
    {
     "data": {
      "text/html": [
       "<div>\n",
       "<style scoped>\n",
       "    .dataframe tbody tr th:only-of-type {\n",
       "        vertical-align: middle;\n",
       "    }\n",
       "\n",
       "    .dataframe tbody tr th {\n",
       "        vertical-align: top;\n",
       "    }\n",
       "\n",
       "    .dataframe thead th {\n",
       "        text-align: right;\n",
       "    }\n",
       "</style>\n",
       "<table border=\"1\" class=\"dataframe\">\n",
       "  <thead>\n",
       "    <tr style=\"text-align: right;\">\n",
       "      <th></th>\n",
       "      <th>index</th>\n",
       "      <th>Score1</th>\n",
       "      <th>Score2</th>\n",
       "      <th>Score3</th>\n",
       "      <th>Score4</th>\n",
       "      <th>Score5</th>\n",
       "      <th>Score6</th>\n",
       "    </tr>\n",
       "  </thead>\n",
       "  <tbody>\n",
       "    <tr>\n",
       "      <th>0</th>\n",
       "      <td>A</td>\n",
       "      <td>0.672281</td>\n",
       "      <td>0.104925</td>\n",
       "      <td>0.639396</td>\n",
       "      <td>0.438870</td>\n",
       "      <td>0.737263</td>\n",
       "      <td>0.777206</td>\n",
       "    </tr>\n",
       "    <tr>\n",
       "      <th>1</th>\n",
       "      <td>B</td>\n",
       "      <td>0.097738</td>\n",
       "      <td>0.420362</td>\n",
       "      <td>0.142961</td>\n",
       "      <td>0.044499</td>\n",
       "      <td>0.123164</td>\n",
       "      <td>0.518099</td>\n",
       "    </tr>\n",
       "    <tr>\n",
       "      <th>2</th>\n",
       "      <td>C</td>\n",
       "      <td>0.239350</td>\n",
       "      <td>0.807544</td>\n",
       "      <td>0.734587</td>\n",
       "      <td>0.862215</td>\n",
       "      <td>0.175139</td>\n",
       "      <td>1.046895</td>\n",
       "    </tr>\n",
       "    <tr>\n",
       "      <th>3</th>\n",
       "      <td>D</td>\n",
       "      <td>0.304765</td>\n",
       "      <td>0.418634</td>\n",
       "      <td>0.641534</td>\n",
       "      <td>0.410353</td>\n",
       "      <td>0.726661</td>\n",
       "      <td>0.723399</td>\n",
       "    </tr>\n",
       "    <tr>\n",
       "      <th>4</th>\n",
       "      <td>E</td>\n",
       "      <td>0.552518</td>\n",
       "      <td>0.450533</td>\n",
       "      <td>0.320620</td>\n",
       "      <td>0.685759</td>\n",
       "      <td>0.368445</td>\n",
       "      <td>1.003052</td>\n",
       "    </tr>\n",
       "    <tr>\n",
       "      <th>5</th>\n",
       "      <td>F</td>\n",
       "      <td>0.518488</td>\n",
       "      <td>0.513859</td>\n",
       "      <td>0.967520</td>\n",
       "      <td>0.380799</td>\n",
       "      <td>0.607190</td>\n",
       "      <td>1.032347</td>\n",
       "    </tr>\n",
       "    <tr>\n",
       "      <th>6</th>\n",
       "      <td>G</td>\n",
       "      <td>0.119015</td>\n",
       "      <td>0.332817</td>\n",
       "      <td>0.411330</td>\n",
       "      <td>0.908184</td>\n",
       "      <td>0.710015</td>\n",
       "      <td>0.451832</td>\n",
       "    </tr>\n",
       "    <tr>\n",
       "      <th>7</th>\n",
       "      <td>H</td>\n",
       "      <td>0.000971</td>\n",
       "      <td>0.764705</td>\n",
       "      <td>0.623335</td>\n",
       "      <td>0.595956</td>\n",
       "      <td>0.482548</td>\n",
       "      <td>0.765676</td>\n",
       "    </tr>\n",
       "  </tbody>\n",
       "</table>\n",
       "</div>"
      ],
      "text/plain": [
       "  index    Score1    Score2    Score3    Score4    Score5    Score6\n",
       "0     A  0.672281  0.104925  0.639396  0.438870  0.737263  0.777206\n",
       "1     B  0.097738  0.420362  0.142961  0.044499  0.123164  0.518099\n",
       "2     C  0.239350  0.807544  0.734587  0.862215  0.175139  1.046895\n",
       "3     D  0.304765  0.418634  0.641534  0.410353  0.726661  0.723399\n",
       "4     E  0.552518  0.450533  0.320620  0.685759  0.368445  1.003052\n",
       "5     F  0.518488  0.513859  0.967520  0.380799  0.607190  1.032347\n",
       "6     G  0.119015  0.332817  0.411330  0.908184  0.710015  0.451832\n",
       "7     H  0.000971  0.764705  0.623335  0.595956  0.482548  0.765676"
      ]
     },
     "execution_count": 22,
     "metadata": {},
     "output_type": "execute_result"
    }
   ],
   "source": [
    "df1.reset_index()"
   ]
  },
  {
   "cell_type": "code",
   "execution_count": 21,
   "id": "1fa74df7",
   "metadata": {},
   "outputs": [
    {
     "data": {
      "text/html": [
       "<div>\n",
       "<style scoped>\n",
       "    .dataframe tbody tr th:only-of-type {\n",
       "        vertical-align: middle;\n",
       "    }\n",
       "\n",
       "    .dataframe tbody tr th {\n",
       "        vertical-align: top;\n",
       "    }\n",
       "\n",
       "    .dataframe thead th {\n",
       "        text-align: right;\n",
       "    }\n",
       "</style>\n",
       "<table border=\"1\" class=\"dataframe\">\n",
       "  <thead>\n",
       "    <tr style=\"text-align: right;\">\n",
       "      <th></th>\n",
       "      <th>ID</th>\n",
       "      <th>Name</th>\n",
       "      <th>Profit</th>\n",
       "    </tr>\n",
       "  </thead>\n",
       "  <tbody>\n",
       "    <tr>\n",
       "      <th>0</th>\n",
       "      <td>101</td>\n",
       "      <td>John</td>\n",
       "      <td>20</td>\n",
       "    </tr>\n",
       "    <tr>\n",
       "      <th>1</th>\n",
       "      <td>102</td>\n",
       "      <td>Mercy</td>\n",
       "      <td>54</td>\n",
       "    </tr>\n",
       "    <tr>\n",
       "      <th>2</th>\n",
       "      <td>103</td>\n",
       "      <td>Akash</td>\n",
       "      <td>56</td>\n",
       "    </tr>\n",
       "    <tr>\n",
       "      <th>3</th>\n",
       "      <td>107</td>\n",
       "      <td>Kavin</td>\n",
       "      <td>87</td>\n",
       "    </tr>\n",
       "    <tr>\n",
       "      <th>4</th>\n",
       "      <td>176</td>\n",
       "      <td>Lally</td>\n",
       "      <td>123</td>\n",
       "    </tr>\n",
       "  </tbody>\n",
       "</table>\n",
       "</div>"
      ],
      "text/plain": [
       "    ID   Name  Profit\n",
       "0  101   John      20\n",
       "1  102  Mercy      54\n",
       "2  103  Akash      56\n",
       "3  107  Kavin      87\n",
       "4  176  Lally     123"
      ]
     },
     "execution_count": 21,
     "metadata": {},
     "output_type": "execute_result"
    }
   ],
   "source": [
    "df2={'ID':['101','102','103','107','176'],'Name':['John','Mercy','Akash','Kavin','Lally'],'Profit':[20,54,56,87,123]}\n",
    "df=pd.DataFrame(df2)\n",
    "df"
   ]
  }
 ],
 "metadata": {
  "kernelspec": {
   "display_name": "Python 3",
   "language": "python",
   "name": "python3"
  },
  "language_info": {
   "codemirror_mode": {
    "name": "ipython",
    "version": 3
   },
   "file_extension": ".py",
   "mimetype": "text/x-python",
   "name": "python",
   "nbconvert_exporter": "python",
   "pygments_lexer": "ipython3",
   "version": "3.8.8"
  }
 },
 "nbformat": 4,
 "nbformat_minor": 5
}
